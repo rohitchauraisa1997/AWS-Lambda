{
 "cells": [
  {
   "cell_type": "markdown",
   "metadata": {},
   "source": [
    "# Python 3.7"
   ]
  },
  {
   "cell_type": "markdown",
   "metadata": {},
   "source": [
    "## Lambda 1"
   ]
  },
  {
   "cell_type": "markdown",
   "metadata": {},
   "source": [
    "###### First Date in alpha api"
   ]
  },
  {
   "cell_type": "code",
   "execution_count": 3,
   "metadata": {},
   "outputs": [],
   "source": [
    "def lambda_handler(event, context):\n",
    "    \"\"\"\n",
    "    returns first date in alphavantage API if available for particular stock\n",
    "    else returns \"not tracked\"\n",
    "    \"\"\"\n",
    "    # import requests\n",
    "    \n",
    "    stockcode = \"PIIND\"\n",
    "    url = \"https://www.alphavantage.co/query?function=TIME_SERIES_DAILY_ADJUSTED&symbol=BSE:{}&apikey=XYZ\".format(\n",
    "        stockcode\n",
    "    )\n",
    "    \n",
    "    response = requests.get(url)\n",
    "    # pprint(response)\n",
    "    pprint(response.text)\n",
    "    # print(response.status_code)\n",
    "    datewise_data = response.json()\n",
    "    # pprint(datewise_data[\"Time Series (Daily)\"])\n",
    "    for key, time_lineddata in datewise_data.items():\n",
    "        if key == \"Time Series (Daily)\":\n",
    "            # print(\"@\" * 50)\n",
    "            # print(list((sorted(time_lineddata.keys())))[0])\n",
    "            # print(\"@\" * 50)\n",
    "            return list((sorted(time_lineddata.keys())))[0]\n"
   ]
  },
  {
   "cell_type": "markdown",
   "metadata": {},
   "source": [
    "## Lambda 2"
   ]
  },
  {
   "cell_type": "code",
   "execution_count": null,
   "metadata": {},
   "outputs": [],
   "source": [
    "import json\n",
    "from botocore.vendored import requests\n",
    "from pprint import pprint\n",
    "\n",
    "def lambda_handler(event, context):\n",
    "    \"\"\"\n",
    "    updates database for the data collected from alpha vantage API.\n",
    "    \"\"\"\n",
    "    stockcode = \"PIIND\"\n",
    "\n",
    "    url = \"https://www.alphavantage.co/query?function=TIME_SERIES_DAILY_ADJUSTED&symbol=BSE:{}&apikey=XYZ\".format(\n",
    "        stockcode\n",
    "    )\n",
    "    response = requests.get(url)\n",
    "    # print(response.status_code)\n",
    "    datewise_data = response.json()\n",
    "    pprint(datewise_data[\"Time Series (Daily)\"])\n",
    "    return datewise_data"
   ]
  },
  {
   "cell_type": "markdown",
   "metadata": {},
   "source": [
    "# Lambda Rds Connection function"
   ]
  },
  {
   "cell_type": "code",
   "execution_count": null,
   "metadata": {},
   "outputs": [],
   "source": [
    "# A lambda function to interact with AWS RDS MySQL\r\n",
    "\r\n",
    "import pymysql\r\n",
    "import sys\r\n",
    "\r\n",
    "event = {\r\n",
    "  \"vehichleID\": 2,\r\n",
    "  \"make\": \"Ferrari\",\r\n",
    "  \"model\": \"Mclaren\",\r\n",
    "  \"derivative\":\"1.5 TSI EVO Match Edition 5dr\"\r\n",
    "}\r\n",
    "context = \"\"\r\n",
    "\r\n",
    "REGION = 'ap-northeast-1a'\r\n",
    "\r\n",
    "rds_host  = \"database-4.c0793bdrqx2d.ap-northeast-1.rds.amazonaws.com\"\r\n",
    "name = \"admin\"\r\n",
    "password = \"Rohit1997\"\r\n",
    "db_name = \"local\"\r\n",
    "\r\n",
    "def save_events(event):\r\n",
    "    \"\"\"\r\n",
    "    This function fetches content from mysql RDS instance\r\n",
    "    \"\"\"\r\n",
    "    result = []\r\n",
    "    conn = pymysql.connect(host=rds_host, user=name, passwd=password, db=db_name, connect_timeout=5)\r\n",
    "    with conn.cursor() as cur:\r\n",
    "        # cur.execute(\"\"\"insert into test (id, name) values( %s, '%s')\"\"\" % (event['id'], event['name']))\r\n",
    "        # INSERT INTO vehicle VALUES(1000,'Volkswagen','Golf','1.5 TSI EVO Match Edition 5dr');\r\n",
    "        # cur.execute(f\"insert into vehicle VALUES ({event['vehichleID']}, {event['make']}, {event['model']}, {event['derivative']} )\")\r\n",
    "        print(\"*\"*50)\r\n",
    "        # print((event['vehichleID'], event['make'], event['model'], event['derivative']))\r\n",
    "        # print(\"insert into vehicle VALUES ({}, '{}', '{}', '{}')\".format(event['vehichleID'], event['make'], event['model'], event['derivative']))\r\n",
    "        # print(\"*\"*50)\r\n",
    "        # # cur.execute(\"\"\"insert into vehicle VALUES ({}, '{}', '{}', '{}')\"\"\".format(event['vehichleID'], event['make'], event['model'], event['derivative']))\r\n",
    "        cur.execute(\"insert into vehicle VALUES (2002,'Volkswagen','Golf','1.5 TSI EVO Match Edition 5dr');\")\r\n",
    "        cur.execute(\"\"\"select * from vehicle\"\"\")\r\n",
    "        conn.commit()\r\n",
    "        cur.close()\r\n",
    "        for row in cur:\r\n",
    "            result.append(list(row))\r\n",
    "        print(\"Data from RDS...\")\r\n",
    "        print(result)\r\n",
    "\r\n",
    "def main(event, context):\r\n",
    "    save_events(event)\r\n",
    "\r\n",
    "\r\n",
    "\r\n",
    "# main(event, context)\r\n"
   ]
  },
  {
   "cell_type": "code",
   "execution_count": null,
   "metadata": {},
   "outputs": [],
   "source": []
  }
 ],
 "metadata": {
  "interpreter": {
   "hash": "00d6561f0e0b33f1c92343e8c692430ec8f2623f8dcce961da0b9603527a5c2b"
  },
  "kernelspec": {
   "display_name": "Python 3.9.0 64-bit",
   "name": "python3"
  },
  "language_info": {
   "name": "python",
   "version": ""
  }
 },
 "nbformat": 4,
 "nbformat_minor": 4
}