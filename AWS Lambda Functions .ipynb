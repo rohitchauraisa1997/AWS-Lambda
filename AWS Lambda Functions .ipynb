{
 "cells": [
  {
   "cell_type": "markdown",
   "metadata": {},
   "source": [
    "# Python 3.7"
   ]
  },
  {
   "cell_type": "markdown",
   "metadata": {},
   "source": [
    "## Lambda 1"
   ]
  },
  {
   "cell_type": "markdown",
   "metadata": {},
   "source": [
    "###### First Date in alpha api"
   ]
  },
  {
   "cell_type": "code",
   "execution_count": 3,
   "metadata": {},
   "outputs": [],
   "source": [
    "def lambda_handler(event, context):\n",
    "    \"\"\"\n",
    "    returns first date in alphavantage API if available for particular stock\n",
    "    else returns \"not tracked\"\n",
    "    \"\"\"\n",
    "    # import requests\n",
    "    \n",
    "    stockcode = \"PIIND\"\n",
    "    url = \"https://www.alphavantage.co/query?function=TIME_SERIES_DAILY_ADJUSTED&symbol=BSE:{}&apikey=XYZ\".format(\n",
    "        stockcode\n",
    "    )\n",
    "    \n",
    "    response = requests.get(url)\n",
    "    # pprint(response)\n",
    "    pprint(response.text)\n",
    "    # print(response.status_code)\n",
    "    datewise_data = response.json()\n",
    "    # pprint(datewise_data[\"Time Series (Daily)\"])\n",
    "    for key, time_lineddata in datewise_data.items():\n",
    "        if key == \"Time Series (Daily)\":\n",
    "            # print(\"@\" * 50)\n",
    "            # print(list((sorted(time_lineddata.keys())))[0])\n",
    "            # print(\"@\" * 50)\n",
    "            return list((sorted(time_lineddata.keys())))[0]\n"
   ]
  },
  {
   "cell_type": "markdown",
   "metadata": {},
   "source": [
    "## Lambda 2"
   ]
  },
  {
   "cell_type": "code",
   "execution_count": null,
   "metadata": {},
   "outputs": [],
   "source": [
    "import json\n",
    "from botocore.vendored import requests\n",
    "from pprint import pprint\n",
    "\n",
    "def lambda_handler(event, context):\n",
    "    \"\"\"\n",
    "    updates database for the data collected from alpha vantage API.\n",
    "    \"\"\"\n",
    "    stockcode = \"PIIND\"\n",
    "\n",
    "    url = \"https://www.alphavantage.co/query?function=TIME_SERIES_DAILY_ADJUSTED&symbol=BSE:{}&apikey=XYZ\".format(\n",
    "        stockcode\n",
    "    )\n",
    "    response = requests.get(url)\n",
    "    # print(response.status_code)\n",
    "    datewise_data = response.json()\n",
    "    pprint(datewise_data[\"Time Series (Daily)\"])\n",
    "    return datewise_data"
   ]
  }
 ],
 "metadata": {
  "kernelspec": {
   "display_name": "Python 3",
   "language": "python",
   "name": "python3"
  },
  "language_info": {
   "codemirror_mode": {
    "name": "ipython",
    "version": 3
   },
   "file_extension": ".py",
   "mimetype": "text/x-python",
   "name": "python",
   "nbconvert_exporter": "python",
   "pygments_lexer": "ipython3",
   "version": "3.8.5"
  }
 },
 "nbformat": 4,
 "nbformat_minor": 4
}
